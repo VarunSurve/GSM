{
 "cells": [
  {
   "cell_type": "code",
   "execution_count": 1,
   "id": "3b5276fa-0c29-4bce-86fb-d0476699085b",
   "metadata": {},
   "outputs": [
    {
     "name": "stdout",
     "output_type": "stream",
     "text": [
      "128 Bit Key =  1000100000001110011100101111111111111000000111110101100010110001100110101101110000010101011010010100101101100110011100010110011\n",
      "128 Random Bits Generated =  1101100011000110110011100001011010011001110101000101000011010010000010111010010010011100101001010111000100001110101101010001111\n",
      "RES/SRES =  01100100100010111001001001010000\n"
     ]
    }
   ],
   "source": [
    "import random\n",
    "k=random.getrandbits(128)\n",
    "m=random.getrandbits(128)\n",
    "kb=bin(k)[2:]\n",
    "mb=bin(m)[2:]\n",
    "kbl=kb[0:64]\n",
    "kbr=kb[64:]\n",
    "mbl=mb[0:64]\n",
    "mbr=mb[64:]\n",
    "a1=int(kbl,2)^int(mbr,2)\n",
    "a2=int(kbr,2)^int(mbl,2)\n",
    "a3=a1^a2\n",
    "a4=bin(a3)[2:].zfill(64)\n",
    "a5=a4[0:32]\n",
    "a6=a4[32:]\n",
    "a7=int(a5,2)^int(a6,2)\n",
    "print(\"128 Bit Key = \",kb)\n",
    "print(\"128 Random Bits Generated = \",mb)\n",
    "print(\"RES/SRES = \",bin(a7)[2:].zfill(len(a5)))"
   ]
  }
 ],
 "metadata": {
  "kernelspec": {
   "display_name": "Python 3 (ipykernel)",
   "language": "python",
   "name": "python3"
  },
  "language_info": {
   "codemirror_mode": {
    "name": "ipython",
    "version": 3
   },
   "file_extension": ".py",
   "mimetype": "text/x-python",
   "name": "python",
   "nbconvert_exporter": "python",
   "pygments_lexer": "ipython3",
   "version": "3.11.9"
  }
 },
 "nbformat": 4,
 "nbformat_minor": 5
}
